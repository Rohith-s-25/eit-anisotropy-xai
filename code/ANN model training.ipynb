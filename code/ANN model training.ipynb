{
  "nbformat": 4,
  "nbformat_minor": 0,
  "metadata": {
    "colab": {
      "provenance": []
    },
    "kernelspec": {
      "name": "python3",
      "display_name": "Python 3"
    },
    "language_info": {
      "name": "python"
    }
  },
  "cells": [
    {
      "cell_type": "code",
      "execution_count": null,
      "metadata": {
        "colab": {
          "base_uri": "https://localhost:8080/",
          "height": 879
        },
        "id": "D_PnCsgsiHwE",
        "outputId": "59a4c535-4432-4f73-e779-859eea2e7726"
      },
      "outputs": [
        {
          "output_type": "stream",
          "name": "stdout",
          "text": [
            "Training started...\n",
            "\n",
            "Epoch 1/20 | Loss: 7.5992\n",
            "Epoch 2/20 | Loss: 1.0250\n",
            "Epoch 3/20 | Loss: 0.6216\n",
            "Epoch 4/20 | Loss: 0.5939\n",
            "Epoch 5/20 | Loss: 0.5904\n",
            "Epoch 6/20 | Loss: 0.5445\n",
            "Epoch 7/20 | Loss: 0.5664\n",
            "Epoch 8/20 | Loss: 0.5464\n",
            "Epoch 9/20 | Loss: 0.5759\n",
            "Epoch 10/20 | Loss: 0.5676\n",
            "Epoch 11/20 | Loss: 0.5576\n",
            "Epoch 12/20 | Loss: 0.5691\n",
            "Epoch 13/20 | Loss: 0.5319\n",
            "Epoch 14/20 | Loss: 0.5246\n",
            "Epoch 15/20 | Loss: 0.5359\n",
            "Epoch 16/20 | Loss: 0.5174\n",
            "Epoch 17/20 | Loss: 0.5648\n",
            "Epoch 18/20 | Loss: 0.5180\n",
            "Epoch 19/20 | Loss: 0.5531\n",
            "Epoch 20/20 | Loss: 0.5023\n",
            "\n",
            "Test Accuracy: 0.9200\n",
            "Confusion Matrix:\n",
            " [[240  25]\n",
            " [ 15 220]]\n"
          ]
        },
        {
          "output_type": "display_data",
          "data": {
            "text/plain": [
              "<Figure size 400x400 with 2 Axes>"
            ],
            "image/png": "[encoded data removed]"
          },
          "metadata": {}
        },
        {
          "output_type": "stream",
          "name": "stdout",
          "text": [
            "[SAVE] Training stats saved -> train_stats_256.npz\n"
          ]
        }
      ],
      "source": [
        "import os\n",
        "import scipy.io\n",
        "import numpy as np\n",
        "import torch\n",
        "import torch.nn as nn\n",
        "from torch.utils.data import Dataset, DataLoader, random_split\n",
        "from sklearn.metrics import accuracy_score, confusion_matrix\n",
        "import matplotlib.pyplot as plt\n",
        "\n",
        "# ================== CONFIG ==================\n",
        "DATA_DIR = 'DN_Matrix_Batch_new'  # your folder\n",
        "BATCH_SIZE = 32\n",
        "EPOCHS = 20\n",
        "LEARNING_RATE = 0.001\n",
        "TEST_SPLIT = 0.5        # 50% for training\n",
        "INPUT_NOISE_LEVEL = 0.1 # Stronger noise for training\n",
        "LABEL_NOISE_FRAC = 0.05 # Flip 5% of labels\n",
        "# =============================================\n",
        "# ============ Dataset Class =================\n",
        "class DNMatrixDataset(Dataset):\n",
        "    def __init__(self, folder, label_noise_frac=0.0):\n",
        "        features = []\n",
        "        labels = []\n",
        "        files = sorted(os.listdir(folder))\n",
        "        for file in files:\n",
        "            if file.endswith('.mat'):\n",
        "                path = os.path.join(folder, file)\n",
        "                mat_data = scipy.io.loadmat(path)\n",
        "                dn_matrix = mat_data['DN_noisy']\n",
        "                dn_matrix = np.nan_to_num(dn_matrix)\n",
        "                dn_matrix = dn_matrix.flatten().astype(np.float32)\n",
        "                label = int(mat_data['label'].squeeze())\n",
        "                features.append(dn_matrix)\n",
        "                labels.append(label)\n",
        "\n",
        "        features_array = np.array(features)\n",
        "        labels_array = np.array(labels)\n",
        "\n",
        "        # Introduce label noise\n",
        "        if label_noise_frac > 0:\n",
        "            n_noisy = int(label_noise_frac * len(labels_array))\n",
        "            noisy_idx = np.random.choice(len(labels_array), n_noisy, replace=False)\n",
        "            for idx in noisy_idx:\n",
        "                labels_array[idx] = 1 - labels_array[idx]  # flip 0 ↔ 1\n",
        "\n",
        "        self.features = torch.tensor(features_array, dtype=torch.float32)\n",
        "        self.labels = torch.tensor(labels_array, dtype=torch.long)\n",
        "\n",
        "    def __len__(self):\n",
        "        return len(self.features)\n",
        "\n",
        "    def __getitem__(self, idx):\n",
        "        return self.features[idx], self.labels[idx]\n",
        "\n",
        "# ============ Model =================\n",
        "class AnisotropyClassifier(nn.Module):\n",
        "    def __init__(self):\n",
        "        super().__init__()\n",
        "        self.network = nn.Sequential(\n",
        "            nn.Linear(256, 16),   # smaller hidden layer\n",
        "            nn.ReLU(),\n",
        "            nn.Dropout(0.5),      # 50% dropout\n",
        "            nn.Linear(16, 2)\n",
        "        )\n",
        "\n",
        "    def forward(self, x):\n",
        "        return self.network(x)\n",
        "\n",
        "# Load dataset with label noise\n",
        "dataset = DNMatrixDataset(DATA_DIR, label_noise_frac=LABEL_NOISE_FRAC)\n",
        "\n",
        "# Split dataset\n",
        "test_size = int(TEST_SPLIT * len(dataset))\n",
        "train_size = len(dataset) - test_size\n",
        "train_set, test_set = random_split(dataset, [train_size, test_size])\n",
        "\n",
        "train_loader = DataLoader(train_set, batch_size=BATCH_SIZE, shuffle=True)\n",
        "test_loader = DataLoader(test_set, batch_size=BATCH_SIZE)\n",
        "\n",
        "# Device\n",
        "device = torch.device(\"cuda\" if torch.cuda.is_available() else \"cpu\")\n",
        "\n",
        "# Model, loss, optimizer\n",
        "model = AnisotropyClassifier().to(device)\n",
        "criterion = nn.CrossEntropyLoss()\n",
        "optimizer = torch.optim.Adam(model.parameters(), lr=LEARNING_RATE)\n",
        "\n",
        "# ============ Training Loop ============\n",
        "print(\"Training started...\\n\")\n",
        "for epoch in range(EPOCHS):\n",
        "    model.train()\n",
        "    epoch_loss = 0\n",
        "    for features, labels in train_loader:\n",
        "        features, labels = features.to(device), labels.to(device)\n",
        "\n",
        "        # Add strong input noise (train only)\n",
        "        noisy_features = features + INPUT_NOISE_LEVEL * torch.randn_like(features)\n",
        "\n",
        "        optimizer.zero_grad()\n",
        "        outputs = model(noisy_features)\n",
        "        loss = criterion(outputs, labels)\n",
        "        loss.backward()\n",
        "        optimizer.step()\n",
        "        epoch_loss += loss.item()\n",
        "\n",
        "    print(f\"Epoch {epoch+1}/{EPOCHS} | Loss: {epoch_loss / len(train_loader):.4f}\")\n",
        "\n",
        "# ============ Evaluation ============\n",
        "model.eval()\n",
        "y_true, y_pred = [], []\n",
        "with torch.no_grad():\n",
        "    for features, labels in test_loader:\n",
        "        features = features.to(device) # no noise for testing\n",
        "        outputs = model(features)\n",
        "        _, predicted = torch.max(outputs, dim=1)\n",
        "        y_true.extend(labels.numpy())\n",
        "        y_pred.extend(predicted.cpu().numpy())\n",
        "\n",
        "accuracy = accuracy_score(y_true, y_pred)\n",
        "conf_matrix = confusion_matrix(y_true, y_pred)\n",
        "print(f\"\\nTest Accuracy: {accuracy:.4f}\")\n",
        "print(\"Confusion Matrix:\\n\", conf_matrix)\n",
        "\n",
        "# ============ Visualization ============\n",
        "plt.figure(figsize=(4, 4))\n",
        "plt.imshow(conf_matrix, cmap='Blues')\n",
        "plt.title(\"Confusion Matrix\")\n",
        "plt.xlabel(\"Predicted\")\n",
        "plt.ylabel(\"Actual\")\n",
        "plt.xticks([0, 1], ['Isotropic', 'Anisotropic'])\n",
        "plt.yticks([0, 1], ['Isotropic', 'Anisotropic'])\n",
        "plt.colorbar()\n",
        "plt.tight_layout()\n",
        "plt.show()\n",
        "# ===== Save training mean/std for inference =====\n",
        "X_all = dataset.features.numpy()\n",
        "mean = X_all.mean(axis=0, keepdims=True)\n",
        "std = X_all.std(axis=0, keepdims=True)\n",
        "np.savez(\"train_stats_256.npz\", mean=mean, std=std)\n",
        "print(\"[SAVE] Training stats saved -> train_stats_256.npz\")\n",
        "\n",
        "\n"
      ]
    },
    {
      "cell_type": "code",
      "source": [
        "# Save entire model\n",
        "torch.save(model.state_dict(), 'ann_anisotropy_classifier.pth')\n",
        "print(\"Model saved successfully.\")\n"
      ],
      "metadata": {
        "id": "wqtCFiPIJ-0c",
        "outputId": "f7e7c51d-d019-4d57-8e06-1933a07aa1f4",
        "colab": {
          "base_uri": "https://localhost:8080/"
        }
      },
      "execution_count": null,
      "outputs": [
        {
          "output_type": "stream",
          "name": "stdout",
          "text": [
            "Model saved successfully.\n"
          ]
        }
      ]
    },
    {
      "cell_type": "code",
      "source": [
        "from sklearn.metrics import accuracy_score, confusion_matrix, f1_score, precision_score, recall_score\n",
        "\n",
        "# Evaluation\n",
        "model.eval()\n",
        "y_true, y_pred = [], []\n",
        "\n",
        "with torch.no_grad():\n",
        "    for features, labels in test_loader:\n",
        "        features = features.to(device)\n",
        "        outputs = model(features)\n",
        "        _, predicted = torch.max(outputs, dim=1)\n",
        "\n",
        "        y_true.extend(labels.numpy())\n",
        "        y_pred.extend(predicted.cpu().numpy())\n",
        "\n",
        "# Metrics\n",
        "accuracy = accuracy_score(y_true, y_pred)\n",
        "f1 = f1_score(y_true, y_pred, average='weighted')  # 'weighted' handles class imbalance\n",
        "precision = precision_score(y_true, y_pred, average='weighted')\n",
        "recall = recall_score(y_true, y_pred, average='weighted')\n",
        "conf_matrix = confusion_matrix(y_true, y_pred)\n",
        "\n",
        "# Print results\n",
        "print(f\"\\nTest Accuracy : {accuracy:.4f}\")\n",
        "print(f\"F1 Score      : {f1:.4f}\")\n",
        "print(f\"Precision     : {precision:.4f}\")\n",
        "print(f\"Recall        : {recall:.4f}\")\n",
        "print(\"\\nConfusion Matrix:\")\n",
        "print(conf_matrix)\n",
        "\n",
        "# Visualization\n",
        "plt.figure(figsize=(4, 4))\n",
        "plt.imshow(conf_matrix, cmap='Blues')\n",
        "plt.title(\"Confusion Matrix\")\n",
        "plt.xlabel(\"Predicted\")\n",
        "plt.ylabel(\"Actual\")\n",
        "plt.xticks([0, 1], ['Isotropic', 'Anisotropic'])\n",
        "plt.yticks([0, 1], ['Isotropic', 'Anisotropic'])\n",
        "plt.colorbar()\n",
        "plt.tight_layout()\n",
        "plt.show()\n"
      ],
      "metadata": {
        "colab": {
          "base_uri": "https://localhost:8080/",
          "height": 549
        },
        "id": "Zgx75ZtLXsZ4",
        "outputId": "f8859e6e-b96f-4a0d-ff81-7f163a465459"
      },
      "execution_count": null,
      "outputs": [
        {
          "output_type": "stream",
          "name": "stdout",
          "text": [
            "\n",
            "Test Accuracy : 0.9333\n",
            "F1 Score      : 0.9333\n",
            "Precision     : 0.9333\n",
            "Recall        : 0.9333\n",
            "\n",
            "Confusion Matrix:\n",
            "[[231  16]\n",
            " [ 17 231]]\n"
          ]
        },
        {
          "output_type": "display_data",
          "data": {
            "text/plain": [
              "<Figure size 400x400 with 2 Axes>"
            ],
            "image/png": "[encoded data removed]"
          },
          "metadata": {}
        }
      ]
    }
  ]
}